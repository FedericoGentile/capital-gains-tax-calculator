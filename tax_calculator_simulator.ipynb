{
 "cells": [
  {
   "cell_type": "markdown",
   "metadata": {
    "id": "GDMqd9D9_BRx"
   },
   "source": [
    "# Libraries"
   ]
  },
  {
   "cell_type": "code",
   "execution_count": 1,
   "metadata": {
    "executionInfo": {
     "elapsed": 942,
     "status": "ok",
     "timestamp": 1729241211295,
     "user": {
      "displayName": "Federico Gentile",
      "userId": "06695186432532475216"
     },
     "user_tz": -120
    },
    "id": "Lxvt1Xb6_FF_"
   },
   "outputs": [],
   "source": [
    "import pandas as pd\n",
    "import numpy as np\n",
    "from datetime import datetime\n",
    "import plotly.graph_objects as go\n",
    "from plotly.subplots import make_subplots"
   ]
  },
  {
   "cell_type": "markdown",
   "metadata": {
    "id": "2RipyekF_GyF"
   },
   "source": [
    "# Parameters"
   ]
  },
  {
   "cell_type": "code",
   "execution_count": 2,
   "metadata": {
    "executionInfo": {
     "elapsed": 252,
     "status": "ok",
     "timestamp": 1729241697259,
     "user": {
      "displayName": "Federico Gentile",
      "userId": "06695186432532475216"
     },
     "user_tz": -120
    },
    "id": "5rrvgJZI_JCT"
   },
   "outputs": [],
   "source": [
    "TAX_RATE = 0.275\n",
    "METHOD = \"ACB\" # ACB, FIFO, LIFO, HIFO\n",
    "CURRENCY = \"EUR\"\n",
    "VERBOSE = True"
   ]
  },
  {
   "cell_type": "markdown",
   "metadata": {
    "id": "HddxbcCSDfKR"
   },
   "source": [
    "# Functions"
   ]
  },
  {
   "cell_type": "code",
   "execution_count": 3,
   "metadata": {
    "executionInfo": {
     "elapsed": 2,
     "status": "ok",
     "timestamp": 1729241697595,
     "user": {
      "displayName": "Federico Gentile",
      "userId": "06695186432532475216"
     },
     "user_tz": -120
    },
    "id": "NqLm-Z92DfZJ"
   },
   "outputs": [],
   "source": [
    "def tax_calculator_ACB(selling_units, selling_price, average_purchase_price):\n",
    "    \"\"\"\n",
    "    Calculate the profit and taxes based on selling units, selling price,\n",
    "    and average purchase price.\n",
    "\n",
    "    The function computes the total purchase value of the units sold at\n",
    "    their average purchase price, calculates the profit by subtracting\n",
    "    the purchase value from the selling value, and applies taxes only\n",
    "    if the profit is positive.\n",
    "\n",
    "    Args:\n",
    "        selling_units (int or float): Number of units sold.\n",
    "        selling_price (float): Selling price per unit.\n",
    "        average_purchase_price (float): Average purchase price per unit.\n",
    "\n",
    "    Returns:\n",
    "        tuple: A tuple containing:\n",
    "            - capital_gain (float): The calculated capital gain from the sale.\n",
    "            - taxes (float): The calculated taxes based on profit and a\n",
    "              predefined TAX_RATE. If no profit, taxes will be 0.\n",
    "    \"\"\"\n",
    "    # Purchase value that the selling units would have if bought at the same price\n",
    "    average_purchase_value = selling_units * average_purchase_price\n",
    "\n",
    "    # Profit: current selling value - average purchase value\n",
    "    sold_value = selling_units * selling_price\n",
    "    capital_gain = sold_value - average_purchase_value\n",
    "\n",
    "    # Calculate taxes only if profit is positive\n",
    "    taxes = 0\n",
    "    if capital_gain > 0:\n",
    "        taxes = capital_gain * TAX_RATE\n",
    "\n",
    "    return capital_gain, taxes\n",
    "\n",
    "def calculate_units_to_remove_from_purchase_order(purchase_order_units, units_to_sell_avg, number_of_purchase_orders, counter_order):\n",
    "  \"\"\"\n",
    "  Calculate the number of units to sell and adjust the average units to sell\n",
    "  per purchase order based on the difference between available purchase order\n",
    "  units and the average units to sell.\n",
    "\n",
    "  If the available units in the current purchase order are less than the\n",
    "  average units to sell, the average is adjusted for the remaining purchase\n",
    "  orders, and all units from the current order are sold. Otherwise, the\n",
    "  average units are sold.\n",
    "\n",
    "  Args:\n",
    "      purchase_order_units (int or float): The number of units in the current purchase order.\n",
    "      units_to_sell_avg (float): The average number of units to sell from each purchase order.\n",
    "      number_of_purchase_orders (int): The total number of purchase orders.\n",
    "      counter_order (int): The current purchase order index being processed.\n",
    "\n",
    "  Returns:\n",
    "      tuple: A tuple containing:\n",
    "          - units_to_sell (float): The actual number of units to sell from the current order.\n",
    "          - units_to_sell_avg (float): The updated average units to sell for future orders.\n",
    "  \"\"\"\n",
    "\n",
    "  # Calculate the difference between purchase order units and average units to sell\n",
    "  units_diff = purchase_order_units - units_to_sell_avg\n",
    "\n",
    "  if units_diff <0:\n",
    "    # If not enough units are available, adjust the average units to sell\n",
    "    n = number_of_purchase_orders  - counter_order # Remaining purchase orders\n",
    "    units_to_sell_avg += abs(units_diff) / n # Adjust the average\n",
    "    units_to_sell = purchase_order_units # Sell all available units\n",
    "  else:\n",
    "    # If enough units are available, sell the average amount\n",
    "    units_to_sell = units_to_sell_avg\n",
    "\n",
    "  return units_to_sell, units_to_sell_avg\n",
    "\n",
    "def upldate_balance(df_balance, df_balance_asset, total_units_to_sell, asset_to_sell):\n",
    "    \"\"\"\n",
    "    Update the balance of units based on the total units to sell and the temporary balance\n",
    "    of purchase orders. This function adjusts the units in the original balance DataFrame\n",
    "    and returns the updated balance along with the total number of units sold.\n",
    "\n",
    "    Args:\n",
    "        df_balance (DataFrame): The original balance DataFrame containing current unit counts.\n",
    "        df_balance_temp (DataFrame): The temporary DataFrame of purchase orders to process.\n",
    "        total_units_to_sell (int or float): The total number of units to sell from the balance.\n",
    "\n",
    "    Returns:\n",
    "        tuple: A tuple containing:\n",
    "            - df_balance (DataFrame): The updated balance DataFrame after processing.\n",
    "            - tot_units_sold (int or float): The total number of units sold during the update.\n",
    "    \"\"\"\n",
    "\n",
    "    # Define parameters for balance update\n",
    "    counter_order = 1  # Count how many purchase orders have been processed\n",
    "    tot_units_sold = 0  # Keep track of how many units have been removed from balance\n",
    "    number_of_purchase_orders = df_balance_asset[df_balance_asset['Asset']==asset_to_sell].shape[0]  # Number of purchase orders\n",
    "    units_to_sell_avg = total_units_to_sell / number_of_purchase_orders  # Average units to remove from each order\n",
    "\n",
    "    # Update balance\n",
    "    for j, row_b in df_balance_asset[df_balance_asset['Asset']==asset_to_sell].iterrows():\n",
    "        # Remove units from purchase orders\n",
    "        units_to_sell, units_to_sell_avg = calculate_units_to_remove_from_purchase_order(\n",
    "            purchase_order_units=row_b['Units'],\n",
    "            units_to_sell_avg=units_to_sell_avg,\n",
    "            number_of_purchase_orders=number_of_purchase_orders,\n",
    "            counter_order=counter_order\n",
    "        )\n",
    "\n",
    "        # Subtract the units to sell from the balance DataFrame\n",
    "        df_balance.loc[j, 'Units'] -= units_to_sell\n",
    "\n",
    "        # Update the counter for the next order\n",
    "        counter_order += 1\n",
    "\n",
    "        # Update the total number of units sold\n",
    "        tot_units_sold += units_to_sell\n",
    "\n",
    "    # Remove from balance orders which no longer have units\n",
    "    df_balance = df_balance[df_balance['Units'] > 0].reset_index(drop=True)\n",
    "\n",
    "    return df_balance, tot_units_sold\n",
    "\n",
    "def tax_calculator_XYFO(selling_units, selling_price, df_balance, df_balance_temp):\n",
    "  \"\"\"\n",
    "  Calculate the capital gain and taxes based on selling units, updating the balance of units.\n",
    "\n",
    "  The function processes the units sold from the current balance, updates the balance DataFrame,\n",
    "  and calculates the capital gain and taxes. It iterates through the purchase orders, selling\n",
    "  units from each until the required number of units are sold or no more units are available.\n",
    "\n",
    "  Args:\n",
    "      selling_units (int or float): Number of units to sell.\n",
    "      df_balance (DataFrame): The original balance DataFrame containing current unit counts.\n",
    "      df_balance_temp (DataFrame): Temporary DataFrame with purchase order details.\n",
    "\n",
    "  Returns:\n",
    "      tuple: A tuple containing:\n",
    "          - capital_gain (float): The calculated capital gain from the sale.\n",
    "          - taxes (float): The calculated taxes based on capital gain and a predefined TAX_RATE.\n",
    "          - df_balance (DataFrame): The updated balance DataFrame after processing.\n",
    "          - tot_units_sold (int or float): The total number of units sold.\n",
    "  \"\"\"\n",
    "\n",
    "  # Initialize variables for tracking progress\n",
    "  tot_units_sold = 0 # Track how many units have been removed from the balance\n",
    "  total_units_to_sell = selling_units # Total units to sell\n",
    "  units_to_sell = total_units_to_sell  # Units left to sell\n",
    "  capital_gain = 0 # Initliaze capital gains\n",
    "  taxes = 0 # Initliaze taxes\n",
    "  flag = False # Flag to stop the loop when no more units need to be sold\n",
    "\n",
    "  # Iterate through the temporary balance (purchase orders)\n",
    "  for j, row_b in df_balance_temp.iterrows():\n",
    "    # Check if the units in the current purchase order are less than or equal to units to sell\n",
    "    if row_b['Units'] <= units_to_sell:\n",
    "      # Sell all units from this purchase order\n",
    "      df_balance.loc[j, \"Units\"] = 0 # Set units in the balance to zero\n",
    "      units_sold = row_b[\"Units\"]    # Number of units sold from this order\n",
    "      units_to_sell -= units_sold    # Subtract the sold units from units_to_sell\n",
    "      tot_units_sold +=units_sold    # Add to total units sold\n",
    "    else:\n",
    "      # Sell only the required number of units and stop further processing\n",
    "      units_sold = units_to_sell\n",
    "      df_balance.loc[j, \"Units\"] = row_b[\"Units\"] - units_to_sell # Update remaining units\n",
    "      tot_units_sold += units_sold\n",
    "      flag = True # Set flag to exit the loop since all required units are sold\n",
    "\n",
    "    # Calculate capital gain for the units sold from this purchase order\n",
    "    cg = units_sold*(selling_price - row_b['Unit Price'])\n",
    "    capital_gain += cg\n",
    "\n",
    "    if VERBOSE:\n",
    "      print(f\"Purchased {row_b['Units']} units at {row_b['Unit Price']} and sold them at {selling_price}. Capital gain {round(cg,2)}\")\n",
    "\n",
    "    # Exit the loop once all units are sold\n",
    "    if flag:\n",
    "      break\n",
    "\n",
    "  # Calculate taxes if there's a positive capital gain\n",
    "  if capital_gain > 0:\n",
    "    taxes = capital_gain * TAX_RATE\n",
    "\n",
    "  return capital_gain, taxes, df_balance, tot_units_sold\n",
    "\n",
    "def take_balance_snapshot(df_balance_evolution, df_balance, date):\n",
    "    \"\"\"\n",
    "    Capture a snapshot of the current balance and add it to the balance evolution DataFrame.\n",
    "\n",
    "    This function takes the current state of the balance (including asset names, units, and prices),\n",
    "    records the specified date, and appends this snapshot to an existing DataFrame that tracks\n",
    "    the evolution of balances over time.\n",
    "\n",
    "    Args:\n",
    "        df_balance_evolution (DataFrame): The existing DataFrame tracking historical balance snapshots.\n",
    "        df_balance (DataFrame): The current balance DataFrame containing asset details.\n",
    "        date (str or datetime): The date to assign to the snapshot.\n",
    "\n",
    "    Returns:\n",
    "        DataFrame: The updated DataFrame (`df_balance_evolution`) with the new snapshot added.\n",
    "    \"\"\"\n",
    "    \n",
    "    # Create a snapshot of the current balance with selected columns\n",
    "    df_balance_snapshot = df_balance[['Asset', 'Units', 'Unit Price','Currency']].copy()\n",
    "    \n",
    "    # Add the date to the snapshot\n",
    "    if df_balance_snapshot.empty==False:\n",
    "        df_balance_snapshot.loc[:, 'Date'] = date\n",
    "    \n",
    "    # Append the snapshot to the historical balance evolution DataFrame\n",
    "    df_balance_evolution = pd.concat([df_balance_evolution, df_balance_snapshot])\n",
    "    \n",
    "    return df_balance_evolution"
   ]
  },
  {
   "cell_type": "markdown",
   "metadata": {
    "id": "SwQdK6Da_NmT"
   },
   "source": [
    "# Load data"
   ]
  },
  {
   "cell_type": "markdown",
   "metadata": {},
   "source": [
    "## Transactions"
   ]
  },
  {
   "cell_type": "code",
   "execution_count": 28,
   "metadata": {},
   "outputs": [
    {
     "data": {
      "text/html": [
       "<div>\n",
       "<style scoped>\n",
       "    .dataframe tbody tr th:only-of-type {\n",
       "        vertical-align: middle;\n",
       "    }\n",
       "\n",
       "    .dataframe tbody tr th {\n",
       "        vertical-align: top;\n",
       "    }\n",
       "\n",
       "    .dataframe thead th {\n",
       "        text-align: right;\n",
       "    }\n",
       "</style>\n",
       "<table border=\"1\" class=\"dataframe\">\n",
       "  <thead>\n",
       "    <tr style=\"text-align: right;\">\n",
       "      <th></th>\n",
       "      <th>Date</th>\n",
       "      <th>Type</th>\n",
       "      <th>Units</th>\n",
       "      <th>Asset</th>\n",
       "      <th>Unit Price</th>\n",
       "      <th>Currency</th>\n",
       "      <th>Type Orig</th>\n",
       "    </tr>\n",
       "  </thead>\n",
       "  <tbody>\n",
       "    <tr>\n",
       "      <th>0</th>\n",
       "      <td>2024-01-01 12:30:15</td>\n",
       "      <td>Purchase</td>\n",
       "      <td>1.00</td>\n",
       "      <td>BTC</td>\n",
       "      <td>129.0</td>\n",
       "      <td>EUR</td>\n",
       "      <td>Purchase</td>\n",
       "    </tr>\n",
       "    <tr>\n",
       "      <th>1</th>\n",
       "      <td>2024-02-01 12:30:15</td>\n",
       "      <td>Purchase</td>\n",
       "      <td>2.00</td>\n",
       "      <td>BTC</td>\n",
       "      <td>133.0</td>\n",
       "      <td>EUR</td>\n",
       "      <td>Purchase</td>\n",
       "    </tr>\n",
       "    <tr>\n",
       "      <th>2</th>\n",
       "      <td>2024-03-01 12:30:15</td>\n",
       "      <td>Purchase</td>\n",
       "      <td>2.00</td>\n",
       "      <td>BTC</td>\n",
       "      <td>150.0</td>\n",
       "      <td>EUR</td>\n",
       "      <td>Purchase</td>\n",
       "    </tr>\n",
       "    <tr>\n",
       "      <th>3</th>\n",
       "      <td>2024-04-01 12:30:15</td>\n",
       "      <td>Purchase</td>\n",
       "      <td>5.00</td>\n",
       "      <td>ADA</td>\n",
       "      <td>2.0</td>\n",
       "      <td>EUR</td>\n",
       "      <td>Purchase</td>\n",
       "    </tr>\n",
       "    <tr>\n",
       "      <th>4</th>\n",
       "      <td>2024-09-15 12:30:15</td>\n",
       "      <td>Swap</td>\n",
       "      <td>1.50</td>\n",
       "      <td>BTC</td>\n",
       "      <td>NaN</td>\n",
       "      <td>NaN</td>\n",
       "      <td>Swap</td>\n",
       "    </tr>\n",
       "    <tr>\n",
       "      <th>5</th>\n",
       "      <td>2024-09-15 12:30:15</td>\n",
       "      <td>Swap</td>\n",
       "      <td>10.00</td>\n",
       "      <td>ETH</td>\n",
       "      <td>NaN</td>\n",
       "      <td>NaN</td>\n",
       "      <td>Swap</td>\n",
       "    </tr>\n",
       "    <tr>\n",
       "      <th>6</th>\n",
       "      <td>2024-10-05 12:30:15</td>\n",
       "      <td>Sell</td>\n",
       "      <td>2.00</td>\n",
       "      <td>BTC</td>\n",
       "      <td>178.0</td>\n",
       "      <td>EUR</td>\n",
       "      <td>Sell</td>\n",
       "    </tr>\n",
       "    <tr>\n",
       "      <th>7</th>\n",
       "      <td>2024-10-15 12:30:15</td>\n",
       "      <td>Purchase</td>\n",
       "      <td>0.80</td>\n",
       "      <td>BTC</td>\n",
       "      <td>130.0</td>\n",
       "      <td>EUR</td>\n",
       "      <td>Purchase</td>\n",
       "    </tr>\n",
       "    <tr>\n",
       "      <th>8</th>\n",
       "      <td>2024-10-20 12:30:15</td>\n",
       "      <td>Swap</td>\n",
       "      <td>8.00</td>\n",
       "      <td>ETH</td>\n",
       "      <td>NaN</td>\n",
       "      <td>NaN</td>\n",
       "      <td>Swap</td>\n",
       "    </tr>\n",
       "    <tr>\n",
       "      <th>9</th>\n",
       "      <td>2024-10-20 12:30:15</td>\n",
       "      <td>Swap</td>\n",
       "      <td>1.25</td>\n",
       "      <td>BTC</td>\n",
       "      <td>NaN</td>\n",
       "      <td>NaN</td>\n",
       "      <td>Swap</td>\n",
       "    </tr>\n",
       "    <tr>\n",
       "      <th>10</th>\n",
       "      <td>2024-11-15 12:30:15</td>\n",
       "      <td>Sell</td>\n",
       "      <td>0.33</td>\n",
       "      <td>BTC</td>\n",
       "      <td>178.0</td>\n",
       "      <td>EUR</td>\n",
       "      <td>Sell</td>\n",
       "    </tr>\n",
       "  </tbody>\n",
       "</table>\n",
       "</div>"
      ],
      "text/plain": [
       "                  Date      Type  Units Asset  Unit Price Currency Type Orig\n",
       "0  2024-01-01 12:30:15  Purchase   1.00   BTC       129.0      EUR  Purchase\n",
       "1  2024-02-01 12:30:15  Purchase   2.00   BTC       133.0      EUR  Purchase\n",
       "2  2024-03-01 12:30:15  Purchase   2.00   BTC       150.0      EUR  Purchase\n",
       "3  2024-04-01 12:30:15  Purchase   5.00   ADA         2.0      EUR  Purchase\n",
       "4  2024-09-15 12:30:15      Swap   1.50   BTC         NaN      NaN      Swap\n",
       "5  2024-09-15 12:30:15      Swap  10.00   ETH         NaN      NaN      Swap\n",
       "6  2024-10-05 12:30:15      Sell   2.00   BTC       178.0      EUR      Sell\n",
       "7  2024-10-15 12:30:15  Purchase   0.80   BTC       130.0      EUR  Purchase\n",
       "8  2024-10-20 12:30:15      Swap   8.00   ETH         NaN      NaN      Swap\n",
       "9  2024-10-20 12:30:15      Swap   1.25   BTC         NaN      NaN      Swap\n",
       "10 2024-11-15 12:30:15      Sell   0.33   BTC       178.0      EUR      Sell"
      ]
     },
     "execution_count": 28,
     "metadata": {},
     "output_type": "execute_result"
    }
   ],
   "source": [
    "df_transactions = pd.read_csv('transactions_00.csv', sep=\";\")\n",
    "df_transactions['Date'] = pd.to_datetime(df_transactions['Date'], format='%d/%m/%Y %H:%M:%S')\n",
    "df_transactions['Type Orig'] = df_transactions['Type']\n",
    "\n",
    "# Airdrops: they are like purchases where acquisition costs are set at zero\n",
    "df_transactions.loc[df_transactions['Type']==\"Airdrop\", \"Unit Price\"] = 0\n",
    "df_transactions.loc[df_transactions['Type']==\"Airdrop\", \"Currency\"] = CURRENCY\n",
    "df_transactions.loc[df_transactions['Type']==\"Airdrop\", \"Type\"] = \"Purchase\"\n",
    "df_transactions\n",
    "\n",
    "# Staking rewards: they are like purchases where acquisition costs are set at zero\n",
    "df_transactions.loc[df_transactions['Type']==\"Staking\", \"Unit Price\"] = 0\n",
    "df_transactions.loc[df_transactions['Type']==\"Staking\", \"Currency\"] = CURRENCY\n",
    "df_transactions.loc[df_transactions['Type']==\"Staking\", \"Type\"] = \"Purchase\"\n",
    "\n",
    "# Mining rewards: they are like purchases but taxed at receipt\n",
    "df_transactions.loc[df_transactions['Type']==\"Mining\", \"Currency\"] = CURRENCY\n",
    "df_transactions.loc[df_transactions['Type']==\"Mining\", \"Type\"] = \"Purchase\"\n",
    "\n",
    "df_transactions"
   ]
  },
  {
   "cell_type": "markdown",
   "metadata": {
    "id": "acMZLYff_QLZ"
   },
   "source": [
    "## Purchase"
   ]
  },
  {
   "cell_type": "code",
   "execution_count": 29,
   "metadata": {
    "colab": {
     "base_uri": "https://localhost:8080/",
     "height": 143
    },
    "executionInfo": {
     "elapsed": 5,
     "status": "ok",
     "timestamp": 1729241698518,
     "user": {
      "displayName": "Federico Gentile",
      "userId": "06695186432532475216"
     },
     "user_tz": -120
    },
    "id": "nibmlQ-R_SkV",
    "outputId": "d459609f-a22a-4ab7-f29e-270021b71fd5"
   },
   "outputs": [
    {
     "data": {
      "text/html": [
       "<div>\n",
       "<style scoped>\n",
       "    .dataframe tbody tr th:only-of-type {\n",
       "        vertical-align: middle;\n",
       "    }\n",
       "\n",
       "    .dataframe tbody tr th {\n",
       "        vertical-align: top;\n",
       "    }\n",
       "\n",
       "    .dataframe thead th {\n",
       "        text-align: right;\n",
       "    }\n",
       "</style>\n",
       "<table border=\"1\" class=\"dataframe\">\n",
       "  <thead>\n",
       "    <tr style=\"text-align: right;\">\n",
       "      <th></th>\n",
       "      <th>Date</th>\n",
       "      <th>Type</th>\n",
       "      <th>Units</th>\n",
       "      <th>Asset</th>\n",
       "      <th>Unit Price</th>\n",
       "      <th>Currency</th>\n",
       "      <th>Type Orig</th>\n",
       "    </tr>\n",
       "  </thead>\n",
       "  <tbody>\n",
       "    <tr>\n",
       "      <th>0</th>\n",
       "      <td>2024-01-01 12:30:15</td>\n",
       "      <td>Purchase</td>\n",
       "      <td>1.0</td>\n",
       "      <td>BTC</td>\n",
       "      <td>129.0</td>\n",
       "      <td>EUR</td>\n",
       "      <td>Purchase</td>\n",
       "    </tr>\n",
       "    <tr>\n",
       "      <th>1</th>\n",
       "      <td>2024-02-01 12:30:15</td>\n",
       "      <td>Purchase</td>\n",
       "      <td>2.0</td>\n",
       "      <td>BTC</td>\n",
       "      <td>133.0</td>\n",
       "      <td>EUR</td>\n",
       "      <td>Purchase</td>\n",
       "    </tr>\n",
       "    <tr>\n",
       "      <th>2</th>\n",
       "      <td>2024-03-01 12:30:15</td>\n",
       "      <td>Purchase</td>\n",
       "      <td>2.0</td>\n",
       "      <td>BTC</td>\n",
       "      <td>150.0</td>\n",
       "      <td>EUR</td>\n",
       "      <td>Purchase</td>\n",
       "    </tr>\n",
       "    <tr>\n",
       "      <th>3</th>\n",
       "      <td>2024-04-01 12:30:15</td>\n",
       "      <td>Purchase</td>\n",
       "      <td>5.0</td>\n",
       "      <td>ADA</td>\n",
       "      <td>2.0</td>\n",
       "      <td>EUR</td>\n",
       "      <td>Purchase</td>\n",
       "    </tr>\n",
       "    <tr>\n",
       "      <th>4</th>\n",
       "      <td>2024-10-15 12:30:15</td>\n",
       "      <td>Purchase</td>\n",
       "      <td>0.8</td>\n",
       "      <td>BTC</td>\n",
       "      <td>130.0</td>\n",
       "      <td>EUR</td>\n",
       "      <td>Purchase</td>\n",
       "    </tr>\n",
       "  </tbody>\n",
       "</table>\n",
       "</div>"
      ],
      "text/plain": [
       "                 Date      Type  Units Asset  Unit Price Currency Type Orig\n",
       "0 2024-01-01 12:30:15  Purchase    1.0   BTC       129.0      EUR  Purchase\n",
       "1 2024-02-01 12:30:15  Purchase    2.0   BTC       133.0      EUR  Purchase\n",
       "2 2024-03-01 12:30:15  Purchase    2.0   BTC       150.0      EUR  Purchase\n",
       "3 2024-04-01 12:30:15  Purchase    5.0   ADA         2.0      EUR  Purchase\n",
       "4 2024-10-15 12:30:15  Purchase    0.8   BTC       130.0      EUR  Purchase"
      ]
     },
     "execution_count": 29,
     "metadata": {},
     "output_type": "execute_result"
    }
   ],
   "source": [
    "df_purchase = df_transactions[df_transactions[\"Type\"].isin(['Purchase','Airdrop']) ].reset_index(drop=True)\n",
    "df_purchase"
   ]
  },
  {
   "cell_type": "markdown",
   "metadata": {},
   "source": [
    "## Mining"
   ]
  },
  {
   "cell_type": "code",
   "execution_count": 30,
   "metadata": {},
   "outputs": [
    {
     "data": {
      "text/html": [
       "<div>\n",
       "<style scoped>\n",
       "    .dataframe tbody tr th:only-of-type {\n",
       "        vertical-align: middle;\n",
       "    }\n",
       "\n",
       "    .dataframe tbody tr th {\n",
       "        vertical-align: top;\n",
       "    }\n",
       "\n",
       "    .dataframe thead th {\n",
       "        text-align: right;\n",
       "    }\n",
       "</style>\n",
       "<table border=\"1\" class=\"dataframe\">\n",
       "  <thead>\n",
       "    <tr style=\"text-align: right;\">\n",
       "      <th></th>\n",
       "      <th>Date</th>\n",
       "      <th>Type</th>\n",
       "      <th>Units</th>\n",
       "      <th>Asset</th>\n",
       "      <th>Unit Price</th>\n",
       "      <th>Currency</th>\n",
       "      <th>Type Orig</th>\n",
       "    </tr>\n",
       "  </thead>\n",
       "  <tbody>\n",
       "  </tbody>\n",
       "</table>\n",
       "</div>"
      ],
      "text/plain": [
       "Empty DataFrame\n",
       "Columns: [Date, Type, Units, Asset, Unit Price, Currency, Type Orig]\n",
       "Index: []"
      ]
     },
     "execution_count": 30,
     "metadata": {},
     "output_type": "execute_result"
    }
   ],
   "source": [
    "df_mining = df_transactions[df_transactions[\"Type Orig\"] == 'Mining'].reset_index(drop=True)\n",
    "df_mining"
   ]
  },
  {
   "cell_type": "markdown",
   "metadata": {
    "id": "CJeZT0TD_SsK"
   },
   "source": [
    "# Sell"
   ]
  },
  {
   "cell_type": "code",
   "execution_count": 31,
   "metadata": {
    "colab": {
     "base_uri": "https://localhost:8080/",
     "height": 89
    },
    "executionInfo": {
     "elapsed": 346,
     "status": "ok",
     "timestamp": 1729241699241,
     "user": {
      "displayName": "Federico Gentile",
      "userId": "06695186432532475216"
     },
     "user_tz": -120
    },
    "id": "YC9zaTQW_Uvm",
    "outputId": "eefa484a-7efa-44d2-e653-6caf3f1a0083"
   },
   "outputs": [
    {
     "data": {
      "text/html": [
       "<div>\n",
       "<style scoped>\n",
       "    .dataframe tbody tr th:only-of-type {\n",
       "        vertical-align: middle;\n",
       "    }\n",
       "\n",
       "    .dataframe tbody tr th {\n",
       "        vertical-align: top;\n",
       "    }\n",
       "\n",
       "    .dataframe thead th {\n",
       "        text-align: right;\n",
       "    }\n",
       "</style>\n",
       "<table border=\"1\" class=\"dataframe\">\n",
       "  <thead>\n",
       "    <tr style=\"text-align: right;\">\n",
       "      <th></th>\n",
       "      <th>Date</th>\n",
       "      <th>Type</th>\n",
       "      <th>Units</th>\n",
       "      <th>Asset</th>\n",
       "      <th>Unit Price</th>\n",
       "      <th>Currency</th>\n",
       "      <th>Type Orig</th>\n",
       "      <th>Value</th>\n",
       "    </tr>\n",
       "  </thead>\n",
       "  <tbody>\n",
       "    <tr>\n",
       "      <th>0</th>\n",
       "      <td>2024-10-05 12:30:15</td>\n",
       "      <td>Sell</td>\n",
       "      <td>2.00</td>\n",
       "      <td>BTC</td>\n",
       "      <td>178.0</td>\n",
       "      <td>EUR</td>\n",
       "      <td>Sell</td>\n",
       "      <td>356.00</td>\n",
       "    </tr>\n",
       "    <tr>\n",
       "      <th>1</th>\n",
       "      <td>2024-11-15 12:30:15</td>\n",
       "      <td>Sell</td>\n",
       "      <td>0.33</td>\n",
       "      <td>BTC</td>\n",
       "      <td>178.0</td>\n",
       "      <td>EUR</td>\n",
       "      <td>Sell</td>\n",
       "      <td>58.74</td>\n",
       "    </tr>\n",
       "  </tbody>\n",
       "</table>\n",
       "</div>"
      ],
      "text/plain": [
       "                 Date  Type  Units Asset  Unit Price Currency Type Orig  \\\n",
       "0 2024-10-05 12:30:15  Sell   2.00   BTC       178.0      EUR      Sell   \n",
       "1 2024-11-15 12:30:15  Sell   0.33   BTC       178.0      EUR      Sell   \n",
       "\n",
       "    Value  \n",
       "0  356.00  \n",
       "1   58.74  "
      ]
     },
     "execution_count": 31,
     "metadata": {},
     "output_type": "execute_result"
    }
   ],
   "source": [
    "df_sales = df_transactions[df_transactions[\"Type\"]=='Sell'].reset_index(drop=True)\n",
    "df_sales['Value'] = df_sales['Units']*df_sales['Unit Price']\n",
    "df_sales"
   ]
  },
  {
   "cell_type": "markdown",
   "metadata": {
    "id": "ggpauS9A_eDD"
   },
   "source": [
    "# Calculate Taxes"
   ]
  },
  {
   "cell_type": "code",
   "execution_count": 32,
   "metadata": {
    "editable": true,
    "slideshow": {
     "slide_type": ""
    },
    "tags": []
   },
   "outputs": [
    {
     "name": "stdout",
     "output_type": "stream",
     "text": [
      "######################################################################\n",
      "\t\t\t\tACB\n",
      "######################################################################\n",
      "\n",
      "Original Balance:\n",
      "                 Date      Type  Units Asset  Unit Price Currency Type Orig\n",
      "0 2024-01-01 12:30:15  Purchase    1.0   BTC       129.0      EUR  Purchase\n",
      "1 2024-02-01 12:30:15  Purchase    2.0   BTC       133.0      EUR  Purchase\n",
      "2 2024-03-01 12:30:15  Purchase    2.0   BTC       150.0      EUR  Purchase\n",
      "3 2024-04-01 12:30:15  Purchase    5.0   ADA         2.0      EUR  Purchase\n",
      "\n",
      "----------------------------------------------------------------------\n",
      "\n",
      "Swapped 1.5 BTC for 10.0 ETH.\n",
      "Average Unit Price: 20.85 EUR.\n",
      "\n",
      "Updated Balance:\n",
      "                 Date      Type  Units Asset  Unit Price Currency Type Orig\n",
      "0 2024-01-01 12:30:15  Purchase    0.5   BTC      129.00      EUR  Purchase\n",
      "1 2024-02-01 12:30:15  Purchase    1.5   BTC      133.00      EUR  Purchase\n",
      "2 2024-03-01 12:30:15  Purchase    1.5   BTC      150.00      EUR  Purchase\n",
      "3 2024-04-01 12:30:15  Purchase    5.0   ADA        2.00      EUR  Purchase\n",
      "4 2024-09-15 12:30:15      Swap   10.0   ETH       20.85      EUR      Swap\n",
      "\n",
      "----------------------------------------------------------------------\n",
      "\n",
      "Sold 2.0 BTC for a value of 356.0 EUR. The 2.0 BTC where purchased at averaged price of 139.71, which means their average value is 279.43.\n",
      "Average Unit Price: 139.71 EUR.\n",
      "\n",
      "Capital Gain: 76.57 (356.0 - 279.43).\n",
      "Taxes: 21.057142857142853.\n",
      "\n",
      "Updated Balance:\n",
      "                 Date      Type  Units Asset  Unit Price Currency Type Orig\n",
      "0 2024-02-01 12:30:15  Purchase   0.75   BTC      133.00      EUR  Purchase\n",
      "1 2024-03-01 12:30:15  Purchase   0.75   BTC      150.00      EUR  Purchase\n",
      "2 2024-04-01 12:30:15  Purchase   5.00   ADA        2.00      EUR  Purchase\n",
      "3 2024-09-15 12:30:15      Swap  10.00   ETH       20.85      EUR      Swap\n",
      "\n",
      "----------------------------------------------------------------------\n",
      "\n",
      "Swapped 8.0 ETH for 1.25 BTC.\n",
      "Average Unit Price: 133.44 EUR.\n",
      "\n",
      "Updated Balance:\n",
      "                 Date      Type  Units Asset  Unit Price Currency Type Orig\n",
      "0 2024-02-01 12:30:15  Purchase   0.75   BTC      133.00      EUR  Purchase\n",
      "1 2024-03-01 12:30:15  Purchase   0.75   BTC      150.00      EUR  Purchase\n",
      "2 2024-04-01 12:30:15  Purchase   5.00   ADA        2.00      EUR  Purchase\n",
      "3 2024-09-15 12:30:15      Swap   2.00   ETH       20.85      EUR      Swap\n",
      "4 2024-10-15 12:30:15  Purchase   0.80   BTC      130.00      EUR  Purchase\n",
      "5 2024-10-20 12:30:15      Swap   1.25   BTC      133.44      EUR      Swap\n",
      "\n",
      "----------------------------------------------------------------------\n",
      "\n",
      "Sold 0.33 BTC for a value of 58.74 EUR. The 0.33 BTC where purchased at averaged price of 136.07, which means their average value is 44.9.\n",
      "Average Unit Price: 136.07 EUR.\n",
      "\n",
      "Capital Gain: 13.84 (58.74 - 44.9).\n",
      "Taxes: 3.8051091549295775.\n",
      "\n",
      "Updated Balance:\n",
      "                 Date      Type   Units Asset  Unit Price Currency Type Orig\n",
      "0 2024-02-01 12:30:15  Purchase  0.6675   BTC      133.00      EUR  Purchase\n",
      "1 2024-03-01 12:30:15  Purchase  0.6675   BTC      150.00      EUR  Purchase\n",
      "2 2024-04-01 12:30:15  Purchase  5.0000   ADA        2.00      EUR  Purchase\n",
      "3 2024-09-15 12:30:15      Swap  2.0000   ETH       20.85      EUR      Swap\n",
      "4 2024-10-15 12:30:15  Purchase  0.7175   BTC      130.00      EUR  Purchase\n",
      "5 2024-10-20 12:30:15      Swap  1.1675   BTC      133.44      EUR      Swap\n",
      "\n",
      "----------------------------------------------------------------------\n",
      "\n"
     ]
    },
    {
     "data": {
      "text/html": [
       "<div>\n",
       "<style scoped>\n",
       "    .dataframe tbody tr th:only-of-type {\n",
       "        vertical-align: middle;\n",
       "    }\n",
       "\n",
       "    .dataframe tbody tr th {\n",
       "        vertical-align: top;\n",
       "    }\n",
       "\n",
       "    .dataframe thead th {\n",
       "        text-align: right;\n",
       "    }\n",
       "</style>\n",
       "<table border=\"1\" class=\"dataframe\">\n",
       "  <thead>\n",
       "    <tr style=\"text-align: right;\">\n",
       "      <th></th>\n",
       "      <th>Date</th>\n",
       "      <th>Units</th>\n",
       "      <th>Asset</th>\n",
       "      <th>Unit Price</th>\n",
       "      <th>Currency</th>\n",
       "      <th>Type Orig</th>\n",
       "      <th>Value</th>\n",
       "      <th>Capital Gain</th>\n",
       "      <th>Taxes</th>\n",
       "      <th>Net Profit</th>\n",
       "      <th>Average Unit Price</th>\n",
       "    </tr>\n",
       "  </thead>\n",
       "  <tbody>\n",
       "    <tr>\n",
       "      <th>0</th>\n",
       "      <td>2024-10-05 12:30:15</td>\n",
       "      <td>2.00</td>\n",
       "      <td>BTC</td>\n",
       "      <td>178.0</td>\n",
       "      <td>EUR</td>\n",
       "      <td>Sell</td>\n",
       "      <td>356.00</td>\n",
       "      <td>76.571429</td>\n",
       "      <td>21.057143</td>\n",
       "      <td>55.514286</td>\n",
       "      <td>139.71</td>\n",
       "    </tr>\n",
       "    <tr>\n",
       "      <th>1</th>\n",
       "      <td>2024-11-15 12:30:15</td>\n",
       "      <td>0.33</td>\n",
       "      <td>BTC</td>\n",
       "      <td>178.0</td>\n",
       "      <td>EUR</td>\n",
       "      <td>Sell</td>\n",
       "      <td>58.74</td>\n",
       "      <td>13.836761</td>\n",
       "      <td>3.805109</td>\n",
       "      <td>10.031651</td>\n",
       "      <td>136.07</td>\n",
       "    </tr>\n",
       "  </tbody>\n",
       "</table>\n",
       "</div>"
      ],
      "text/plain": [
       "                 Date  Units Asset  Unit Price Currency Type Orig   Value  \\\n",
       "0 2024-10-05 12:30:15   2.00   BTC       178.0      EUR      Sell  356.00   \n",
       "1 2024-11-15 12:30:15   0.33   BTC       178.0      EUR      Sell   58.74   \n",
       "\n",
       "   Capital Gain      Taxes  Net Profit  Average Unit Price  \n",
       "0     76.571429  21.057143   55.514286              139.71  \n",
       "1     13.836761   3.805109   10.031651              136.07  "
      ]
     },
     "execution_count": 32,
     "metadata": {},
     "output_type": "execute_result"
    }
   ],
   "source": [
    "# step 1 Loop through all transactions which are not purchase\n",
    "# Step 2 Check if current transaction is swap or sell\n",
    "# step 2 Select transactions from balance (copy of original purchase) less then date from step 1\n",
    "\n",
    "# Initiate\n",
    "df_balance = df_purchase.copy()\n",
    "sales_taxes = []\n",
    "\n",
    "# Initate balance evolution\n",
    "first_transaction_date = df_transactions[df_transactions['Type']!='Purchase'].iloc[0]['Date']\n",
    "df_balance_snapshot = df_balance[df_balance['Date']<first_transaction_date][['Date','Asset','Units','Unit Price','Currency']].copy()\n",
    "df_balance_snapshot.loc[:,'Date'] = df_balance_snapshot.iloc[-1]['Date']\n",
    "df_balance_evolution = df_balance_snapshot\n",
    "\n",
    "# Select transactions which are not a Purchase\n",
    "change_events = df_transactions[df_transactions['Type']!=\"Purchase\"][['Date','Type']].drop_duplicates()\n",
    "\n",
    "if VERBOSE:\n",
    "    print(\"######################################################################\")\n",
    "    print(f\"\\t\\t\\t\\t{METHOD}\")\n",
    "    print(\"######################################################################\\n\")\n",
    "    print(\"Original Balance:\")\n",
    "    print(df_balance[df_balance['Date']<first_transaction_date])\n",
    "    print('\\n----------------------------------------------------------------------\\n')\n",
    "    \n",
    "    \n",
    "\n",
    "# Loop through all events which modify the balance\n",
    "for i, change in  change_events.iterrows():\n",
    "\n",
    "    # Update balance\n",
    "    if change['Type'] == \"Swap\":\n",
    "\n",
    "        # Select swap\n",
    "        swap = df_transactions[(df_transactions['Type']==\"Swap\") & (df_transactions['Date']==change['Date'])]\n",
    "\n",
    "        # Split between asset in and out\n",
    "        asset_out = swap.iloc[[0]]\n",
    "        asset_in  = swap.iloc[[1]]\n",
    "\n",
    "        # Select from balance all transactions for swapped asset up to change event\n",
    "        df_balance_asset = df_balance[(df_balance['Asset']==asset_out['Asset'].iloc[0]) & (df_balance['Date']<change['Date'])]\n",
    "\n",
    "        # Calculate average purchase price of new asset\n",
    "        average_purchase_price = ((df_balance_asset['Units']*df_balance_asset['Unit Price']).sum()/df_balance_asset['Units'].sum())*asset_out['Units'].iloc[0]/asset_in['Units'].iloc[0]\n",
    "\n",
    "        # Update balance swapped asset (out)\n",
    "        df_balance_asset_updated, _ = upldate_balance(df_balance_asset,\n",
    "                                                      df_balance_asset,\n",
    "                                                      asset_out['Units'].iloc[0],\n",
    "                                                      asset_out['Asset'].iloc[0])\n",
    "        # Include swaped asset (in)\n",
    "        asset_in.loc[:,'Unit Price'] = average_purchase_price\n",
    "        asset_in.loc[:,'Currency'] = \"EUR\" # This could be further improved for other currencies\n",
    "        df_balance_asset_updated = pd.concat([df_balance_asset_updated, asset_in]).reset_index(drop=True)\n",
    "\n",
    "        # Update all balance up to swap event\n",
    "        df_balance_other_previous_assets = df_balance[(df_balance['Asset']!=asset_out['Asset'].iloc[0]) & (df_balance['Date']<change['Date'])]\n",
    "        df_balance = pd.concat([df_balance_asset_updated, df_balance_other_previous_assets, df_balance[(df_balance['Date']>change['Date'])]]).sort_values(by='Date').reset_index(drop=True)\n",
    "\n",
    "        if VERBOSE:\n",
    "            print(f\"Swapped {asset_out['Units'].iloc[0]} {asset_out['Asset'].iloc[0]} for {asset_in['Units'].iloc[0]} {asset_in['Asset'].iloc[0]}.\")\n",
    "            print(f\"Average Unit Price: {round(average_purchase_price,2)} {asset_in['Currency'].iloc[0]}.\\n\")\n",
    "            \n",
    "    elif change['Type'] == \"Sell\":\n",
    "        \n",
    "        # Select sell\n",
    "        sell = df_transactions[(df_transactions['Type']==\"Sell\") & (df_transactions['Date']==change['Date'])]\n",
    "\n",
    "        # Select from balance all transactions for sold asset up to change event\n",
    "        df_balance_asset = df_balance[(df_balance['Asset']==sell['Asset'].iloc[0]) & (df_balance['Date']<change['Date'])]\n",
    "\n",
    "        # Check if units can be sold:\n",
    "        if sell['Units'].iloc[0] <= df_balance_asset['Units'].sum():\n",
    "\n",
    "            if METHOD == \"ACB\":\n",
    "\n",
    "                # Sort filtered balance by value\n",
    "                df_balance_asset = df_balance_asset.sort_values(\"Units\")   \n",
    "\n",
    "                # Calculate average purchasing price\n",
    "                average_purchase_price = (df_balance_asset['Units']*df_balance_asset['Unit Price']).sum()/df_balance_asset['Units'].sum()\n",
    "\n",
    "                # Calculate capital gain and taxes\n",
    "                capital_gain, taxes = tax_calculator_ACB(selling_units=sell['Units'].iloc[0],\n",
    "                                                         selling_price=sell['Unit Price'].iloc[0],\n",
    "                                                         average_purchase_price=average_purchase_price)\n",
    "\n",
    "                \n",
    "\n",
    "                # Update balance\n",
    "                df_balance_asset_updated, tot_units_sold = upldate_balance(df_balance_asset,\n",
    "                                                                           df_balance_asset,\n",
    "                                                                           sell['Units'].iloc[0],\n",
    "                                                                           sell['Asset'].iloc[0])\n",
    "                \n",
    "                if VERBOSE:\n",
    "                    print(f\"Sold {sell['Units'].iloc[0]} {sell['Asset'].iloc[0]} for a value of {sell['Unit Price'].iloc[0]*sell['Units'].iloc[0]} {sell['Currency'].iloc[0]}. The {sell['Units'].iloc[0]} {sell['Asset'].iloc[0]} where purchased at averaged price of {round(average_purchase_price,2)}, which means their average value is {round(sell['Units'].iloc[0]*average_purchase_price, 2)}.\")\n",
    "                    print(f\"Average Unit Price: {round(average_purchase_price,2)} {sell['Currency'].iloc[0]}.\\n\")\n",
    "                    print(f\"Capital Gain: {round(capital_gain,2)} ({round(sell['Unit Price'].iloc[0]*sell['Units'].iloc[0], 2)} - {round(sell['Units'].iloc[0]*average_purchase_price,2)}).\")\n",
    "                    print(f\"Taxes: {taxes}.\\n\")\n",
    "            \n",
    "            elif METHOD in [\"FIFO\", \"LIFO\", \"HIFO\"]:\n",
    "                \n",
    "                # Select right model\n",
    "                if METHOD == \"FIFO\":\n",
    "                    # Sort filtered balance by date\n",
    "                    df_balance_asset = df_balance_asset.sort_values(\"Date\")\n",
    "                elif METHOD == \"LIFO\":\n",
    "                    # Sort filtered balance by date in descending order\n",
    "                    df_balance_asset = df_balance_asset.sort_values(\"Date\", ascending=False)\n",
    "                elif METHOD == \"HIFO\":\n",
    "                    # Sort filtered balance by value in descending order\n",
    "                    df_balance_asset = df_balance_asset.sort_values(\"Unit Price\", ascending=False)\n",
    "\n",
    "                # Calculate capital gain, taxes and update balance\n",
    "                capital_gain, taxes, df_balance_asset_updated, tot_units_sold = tax_calculator_XYFO(selling_units=sell['Units'].iloc[0],\n",
    "                                                                                                    selling_price=sell['Unit Price'].iloc[0],\n",
    "                                                                                                    df_balance=df_balance_asset,\n",
    "                                                                                                    df_balance_temp=df_balance_asset)\n",
    "\n",
    "                # Remove from balance orders which no longer have units\n",
    "                df_balance_asset_updated = df_balance_asset_updated[df_balance_asset_updated['Units'] > 0].reset_index(drop=True)\n",
    "   \n",
    "                if VERBOSE:\n",
    "                  print(f\"\\nSold {sell['Units'].iloc[0]} units for a value of {round(sell['Units'].iloc[0]*sell['Unit Price'].iloc[0],2)}.\")\n",
    "                  print(f\"Capital Gain: {round(capital_gain,2)}.\")\n",
    "                  print(f\"Taxes: {taxes}.\\n\")\n",
    "\n",
    "            else:\n",
    "        \n",
    "              raise Exception(f\"Method not implemented: {METHOD}\")\n",
    "\n",
    "            # Store profit/taxes infos in sales dataframe\n",
    "            sales_taxes.append({'Capital Gain':capital_gain,\n",
    "                                'Taxes':taxes,\n",
    "                                'Net Profit':capital_gain - taxes,\n",
    "                                'Average Unit Price':round(average_purchase_price,2)})\n",
    "\n",
    "            # Update all balance up to sell event\n",
    "            df_balance_other_previous_assets = df_balance[(df_balance['Asset']!=sell['Asset'].iloc[0]) & (df_balance['Date']<change['Date'])]\n",
    "            df_balance = pd.concat([df_balance_asset_updated, df_balance_other_previous_assets, df_balance[(df_balance['Date']>change['Date'])]]).sort_values(by='Date').reset_index(drop=True)\n",
    "\n",
    "        else:\n",
    "            raise Exception(f\"Too many units to be sold! {row_s['Units']} > {df_balance_temp['Units'].sum()}\")\n",
    "        \n",
    "    # Collect balances snapshots to track its evolution\n",
    "    df_balance_evolution = take_balance_snapshot(df_balance_evolution, df_balance[df_balance['Date']<=change['Date']], change['Date'])\n",
    "   \n",
    "    if VERBOSE:\n",
    "      print(\"Updated Balance:\")\n",
    "      print(df_balance[df_balance['Date']<=change['Date']])\n",
    "      print('\\n----------------------------------------------------------------------\\n')\n",
    "\n",
    "# Add sales additional infos\n",
    "df_sales_tax = df_sales.join(pd.DataFrame(sales_taxes))\n",
    "\n",
    "# Add mining taxes at recepit\n",
    "mining_taxes = []\n",
    "for _, mine in df_transactions[df_transactions['Type Orig'] == 'Mining'].iterrows():\n",
    "    capita_gain = mine['Unit Price']\n",
    "    tax = capita_gain*TAX_RATE\n",
    "    net_profit = capita_gain - tax\n",
    "    average_unit_price = mine['Unit Price']\n",
    "    mining_taxes.append({'Capital Gain':capita_gain, 'Taxes':tax, 'Net Profit':net_profit, 'Average Unit Price':average_unit_price})\n",
    "df_mining_tax =df_mining.join(pd.DataFrame(mining_taxes))\n",
    "\n",
    "# Concatenate all taxes dataframes\n",
    "df_tax = pd.concat([df_sales_tax, df_mining_tax], axis=0).sort_values('Date').reset_index(drop=True).drop(labels=\"Type\", axis=1)\n",
    "\n",
    "df_tax"
   ]
  },
  {
   "cell_type": "markdown",
   "metadata": {},
   "source": [
    "# Plot"
   ]
  },
  {
   "cell_type": "code",
   "execution_count": 33,
   "metadata": {},
   "outputs": [
    {
     "data": {
      "application/vnd.plotly.v1+json": {
       "config": {
        "plotlyServerURL": "https://plot.ly"
       },
       "data": [
        {
         "customdata": [
          [
           129,
           "EUR"
          ],
          [
           133,
           "EUR"
          ],
          [
           150,
           "EUR"
          ],
          [
           2,
           "EUR"
          ],
          [
           129,
           "EUR"
          ],
          [
           133,
           "EUR"
          ],
          [
           150,
           "EUR"
          ],
          [
           2,
           "EUR"
          ],
          [
           20.85,
           "EUR"
          ],
          [
           133,
           "EUR"
          ],
          [
           150,
           "EUR"
          ],
          [
           2,
           "EUR"
          ],
          [
           20.85,
           "EUR"
          ],
          [
           133,
           "EUR"
          ],
          [
           150,
           "EUR"
          ],
          [
           2,
           "EUR"
          ],
          [
           20.85,
           "EUR"
          ],
          [
           130,
           "EUR"
          ],
          [
           133.44,
           "EUR"
          ],
          [
           133,
           "EUR"
          ],
          [
           150,
           "EUR"
          ],
          [
           2,
           "EUR"
          ],
          [
           20.85,
           "EUR"
          ],
          [
           130,
           "EUR"
          ],
          [
           133.44,
           "EUR"
          ]
         ],
         "hovertemplate": "<b>Date:</b> %{x[0]}<br><b>Asset:</b> %{x[1]}<br><b>Units:</b> %{y}<br><b>Unit Price:</b> %{customdata[0]:.2f} %{customdata[1]}<extra></extra>",
         "marker": {
          "color": [
           "#f7931a",
           "#f7931a",
           "#f7931a",
           "#2A7ABF",
           "#f7931a",
           "#f7931a",
           "#f7931a",
           "#2A7ABF",
           "#14044d",
           "#f7931a",
           "#f7931a",
           "#2A7ABF",
           "#14044d",
           "#f7931a",
           "#f7931a",
           "#2A7ABF",
           "#14044d",
           "#f7931a",
           "#f7931a",
           "#f7931a",
           "#f7931a",
           "#2A7ABF",
           "#14044d",
           "#f7931a",
           "#f7931a"
          ]
         },
         "showlegend": false,
         "type": "bar",
         "x": [
          [
           "2024-04-01T12:30:15",
           "2024-04-01T12:30:15",
           "2024-04-01T12:30:15",
           "2024-04-01T12:30:15",
           "2024-09-15T12:30:15",
           "2024-09-15T12:30:15",
           "2024-09-15T12:30:15",
           "2024-09-15T12:30:15",
           "2024-09-15T12:30:15",
           "2024-10-05T12:30:15",
           "2024-10-05T12:30:15",
           "2024-10-05T12:30:15",
           "2024-10-05T12:30:15",
           "2024-10-20T12:30:15",
           "2024-10-20T12:30:15",
           "2024-10-20T12:30:15",
           "2024-10-20T12:30:15",
           "2024-10-20T12:30:15",
           "2024-10-20T12:30:15",
           "2024-11-15T12:30:15",
           "2024-11-15T12:30:15",
           "2024-11-15T12:30:15",
           "2024-11-15T12:30:15",
           "2024-11-15T12:30:15",
           "2024-11-15T12:30:15"
          ],
          [
           "BTC",
           "BTC",
           "BTC",
           "ADA",
           "BTC",
           "BTC",
           "BTC",
           "ADA",
           "ETH",
           "BTC",
           "BTC",
           "ADA",
           "ETH",
           "BTC",
           "BTC",
           "ADA",
           "ETH",
           "BTC",
           "BTC",
           "BTC",
           "BTC",
           "ADA",
           "ETH",
           "BTC",
           "BTC"
          ]
         ],
         "xaxis": "x",
         "y": [
          1,
          2,
          2,
          5,
          0.5,
          1.5,
          1.5,
          5,
          10,
          0.75,
          0.75,
          5,
          10,
          0.75,
          0.75,
          5,
          2,
          0.8,
          1.25,
          0.6675,
          0.6675,
          5,
          2,
          0.7175,
          1.1675
         ],
         "yaxis": "y"
        }
       ],
       "layout": {
        "autosize": true,
        "barmode": "stack",
        "template": {
         "data": {
          "bar": [
           {
            "error_x": {
             "color": "#2a3f5f"
            },
            "error_y": {
             "color": "#2a3f5f"
            },
            "marker": {
             "line": {
              "color": "#E5ECF6",
              "width": 0.5
             },
             "pattern": {
              "fillmode": "overlay",
              "size": 10,
              "solidity": 0.2
             }
            },
            "type": "bar"
           }
          ],
          "barpolar": [
           {
            "marker": {
             "line": {
              "color": "#E5ECF6",
              "width": 0.5
             },
             "pattern": {
              "fillmode": "overlay",
              "size": 10,
              "solidity": 0.2
             }
            },
            "type": "barpolar"
           }
          ],
          "carpet": [
           {
            "aaxis": {
             "endlinecolor": "#2a3f5f",
             "gridcolor": "white",
             "linecolor": "white",
             "minorgridcolor": "white",
             "startlinecolor": "#2a3f5f"
            },
            "baxis": {
             "endlinecolor": "#2a3f5f",
             "gridcolor": "white",
             "linecolor": "white",
             "minorgridcolor": "white",
             "startlinecolor": "#2a3f5f"
            },
            "type": "carpet"
           }
          ],
          "choropleth": [
           {
            "colorbar": {
             "outlinewidth": 0,
             "ticks": ""
            },
            "type": "choropleth"
           }
          ],
          "contour": [
           {
            "colorbar": {
             "outlinewidth": 0,
             "ticks": ""
            },
            "colorscale": [
             [
              0,
              "#0d0887"
             ],
             [
              0.1111111111111111,
              "#46039f"
             ],
             [
              0.2222222222222222,
              "#7201a8"
             ],
             [
              0.3333333333333333,
              "#9c179e"
             ],
             [
              0.4444444444444444,
              "#bd3786"
             ],
             [
              0.5555555555555556,
              "#d8576b"
             ],
             [
              0.6666666666666666,
              "#ed7953"
             ],
             [
              0.7777777777777778,
              "#fb9f3a"
             ],
             [
              0.8888888888888888,
              "#fdca26"
             ],
             [
              1,
              "#f0f921"
             ]
            ],
            "type": "contour"
           }
          ],
          "contourcarpet": [
           {
            "colorbar": {
             "outlinewidth": 0,
             "ticks": ""
            },
            "type": "contourcarpet"
           }
          ],
          "heatmap": [
           {
            "colorbar": {
             "outlinewidth": 0,
             "ticks": ""
            },
            "colorscale": [
             [
              0,
              "#0d0887"
             ],
             [
              0.1111111111111111,
              "#46039f"
             ],
             [
              0.2222222222222222,
              "#7201a8"
             ],
             [
              0.3333333333333333,
              "#9c179e"
             ],
             [
              0.4444444444444444,
              "#bd3786"
             ],
             [
              0.5555555555555556,
              "#d8576b"
             ],
             [
              0.6666666666666666,
              "#ed7953"
             ],
             [
              0.7777777777777778,
              "#fb9f3a"
             ],
             [
              0.8888888888888888,
              "#fdca26"
             ],
             [
              1,
              "#f0f921"
             ]
            ],
            "type": "heatmap"
           }
          ],
          "heatmapgl": [
           {
            "colorbar": {
             "outlinewidth": 0,
             "ticks": ""
            },
            "colorscale": [
             [
              0,
              "#0d0887"
             ],
             [
              0.1111111111111111,
              "#46039f"
             ],
             [
              0.2222222222222222,
              "#7201a8"
             ],
             [
              0.3333333333333333,
              "#9c179e"
             ],
             [
              0.4444444444444444,
              "#bd3786"
             ],
             [
              0.5555555555555556,
              "#d8576b"
             ],
             [
              0.6666666666666666,
              "#ed7953"
             ],
             [
              0.7777777777777778,
              "#fb9f3a"
             ],
             [
              0.8888888888888888,
              "#fdca26"
             ],
             [
              1,
              "#f0f921"
             ]
            ],
            "type": "heatmapgl"
           }
          ],
          "histogram": [
           {
            "marker": {
             "pattern": {
              "fillmode": "overlay",
              "size": 10,
              "solidity": 0.2
             }
            },
            "type": "histogram"
           }
          ],
          "histogram2d": [
           {
            "colorbar": {
             "outlinewidth": 0,
             "ticks": ""
            },
            "colorscale": [
             [
              0,
              "#0d0887"
             ],
             [
              0.1111111111111111,
              "#46039f"
             ],
             [
              0.2222222222222222,
              "#7201a8"
             ],
             [
              0.3333333333333333,
              "#9c179e"
             ],
             [
              0.4444444444444444,
              "#bd3786"
             ],
             [
              0.5555555555555556,
              "#d8576b"
             ],
             [
              0.6666666666666666,
              "#ed7953"
             ],
             [
              0.7777777777777778,
              "#fb9f3a"
             ],
             [
              0.8888888888888888,
              "#fdca26"
             ],
             [
              1,
              "#f0f921"
             ]
            ],
            "type": "histogram2d"
           }
          ],
          "histogram2dcontour": [
           {
            "colorbar": {
             "outlinewidth": 0,
             "ticks": ""
            },
            "colorscale": [
             [
              0,
              "#0d0887"
             ],
             [
              0.1111111111111111,
              "#46039f"
             ],
             [
              0.2222222222222222,
              "#7201a8"
             ],
             [
              0.3333333333333333,
              "#9c179e"
             ],
             [
              0.4444444444444444,
              "#bd3786"
             ],
             [
              0.5555555555555556,
              "#d8576b"
             ],
             [
              0.6666666666666666,
              "#ed7953"
             ],
             [
              0.7777777777777778,
              "#fb9f3a"
             ],
             [
              0.8888888888888888,
              "#fdca26"
             ],
             [
              1,
              "#f0f921"
             ]
            ],
            "type": "histogram2dcontour"
           }
          ],
          "mesh3d": [
           {
            "colorbar": {
             "outlinewidth": 0,
             "ticks": ""
            },
            "type": "mesh3d"
           }
          ],
          "parcoords": [
           {
            "line": {
             "colorbar": {
              "outlinewidth": 0,
              "ticks": ""
             }
            },
            "type": "parcoords"
           }
          ],
          "pie": [
           {
            "automargin": true,
            "type": "pie"
           }
          ],
          "scatter": [
           {
            "fillpattern": {
             "fillmode": "overlay",
             "size": 10,
             "solidity": 0.2
            },
            "type": "scatter"
           }
          ],
          "scatter3d": [
           {
            "line": {
             "colorbar": {
              "outlinewidth": 0,
              "ticks": ""
             }
            },
            "marker": {
             "colorbar": {
              "outlinewidth": 0,
              "ticks": ""
             }
            },
            "type": "scatter3d"
           }
          ],
          "scattercarpet": [
           {
            "marker": {
             "colorbar": {
              "outlinewidth": 0,
              "ticks": ""
             }
            },
            "type": "scattercarpet"
           }
          ],
          "scattergeo": [
           {
            "marker": {
             "colorbar": {
              "outlinewidth": 0,
              "ticks": ""
             }
            },
            "type": "scattergeo"
           }
          ],
          "scattergl": [
           {
            "marker": {
             "colorbar": {
              "outlinewidth": 0,
              "ticks": ""
             }
            },
            "type": "scattergl"
           }
          ],
          "scattermapbox": [
           {
            "marker": {
             "colorbar": {
              "outlinewidth": 0,
              "ticks": ""
             }
            },
            "type": "scattermapbox"
           }
          ],
          "scatterpolar": [
           {
            "marker": {
             "colorbar": {
              "outlinewidth": 0,
              "ticks": ""
             }
            },
            "type": "scatterpolar"
           }
          ],
          "scatterpolargl": [
           {
            "marker": {
             "colorbar": {
              "outlinewidth": 0,
              "ticks": ""
             }
            },
            "type": "scatterpolargl"
           }
          ],
          "scatterternary": [
           {
            "marker": {
             "colorbar": {
              "outlinewidth": 0,
              "ticks": ""
             }
            },
            "type": "scatterternary"
           }
          ],
          "surface": [
           {
            "colorbar": {
             "outlinewidth": 0,
             "ticks": ""
            },
            "colorscale": [
             [
              0,
              "#0d0887"
             ],
             [
              0.1111111111111111,
              "#46039f"
             ],
             [
              0.2222222222222222,
              "#7201a8"
             ],
             [
              0.3333333333333333,
              "#9c179e"
             ],
             [
              0.4444444444444444,
              "#bd3786"
             ],
             [
              0.5555555555555556,
              "#d8576b"
             ],
             [
              0.6666666666666666,
              "#ed7953"
             ],
             [
              0.7777777777777778,
              "#fb9f3a"
             ],
             [
              0.8888888888888888,
              "#fdca26"
             ],
             [
              1,
              "#f0f921"
             ]
            ],
            "type": "surface"
           }
          ],
          "table": [
           {
            "cells": {
             "fill": {
              "color": "#EBF0F8"
             },
             "line": {
              "color": "white"
             }
            },
            "header": {
             "fill": {
              "color": "#C8D4E3"
             },
             "line": {
              "color": "white"
             }
            },
            "type": "table"
           }
          ]
         },
         "layout": {
          "annotationdefaults": {
           "arrowcolor": "#2a3f5f",
           "arrowhead": 0,
           "arrowwidth": 1
          },
          "autotypenumbers": "strict",
          "coloraxis": {
           "colorbar": {
            "outlinewidth": 0,
            "ticks": ""
           }
          },
          "colorscale": {
           "diverging": [
            [
             0,
             "#8e0152"
            ],
            [
             0.1,
             "#c51b7d"
            ],
            [
             0.2,
             "#de77ae"
            ],
            [
             0.3,
             "#f1b6da"
            ],
            [
             0.4,
             "#fde0ef"
            ],
            [
             0.5,
             "#f7f7f7"
            ],
            [
             0.6,
             "#e6f5d0"
            ],
            [
             0.7,
             "#b8e186"
            ],
            [
             0.8,
             "#7fbc41"
            ],
            [
             0.9,
             "#4d9221"
            ],
            [
             1,
             "#276419"
            ]
           ],
           "sequential": [
            [
             0,
             "#0d0887"
            ],
            [
             0.1111111111111111,
             "#46039f"
            ],
            [
             0.2222222222222222,
             "#7201a8"
            ],
            [
             0.3333333333333333,
             "#9c179e"
            ],
            [
             0.4444444444444444,
             "#bd3786"
            ],
            [
             0.5555555555555556,
             "#d8576b"
            ],
            [
             0.6666666666666666,
             "#ed7953"
            ],
            [
             0.7777777777777778,
             "#fb9f3a"
            ],
            [
             0.8888888888888888,
             "#fdca26"
            ],
            [
             1,
             "#f0f921"
            ]
           ],
           "sequentialminus": [
            [
             0,
             "#0d0887"
            ],
            [
             0.1111111111111111,
             "#46039f"
            ],
            [
             0.2222222222222222,
             "#7201a8"
            ],
            [
             0.3333333333333333,
             "#9c179e"
            ],
            [
             0.4444444444444444,
             "#bd3786"
            ],
            [
             0.5555555555555556,
             "#d8576b"
            ],
            [
             0.6666666666666666,
             "#ed7953"
            ],
            [
             0.7777777777777778,
             "#fb9f3a"
            ],
            [
             0.8888888888888888,
             "#fdca26"
            ],
            [
             1,
             "#f0f921"
            ]
           ]
          },
          "colorway": [
           "#636efa",
           "#EF553B",
           "#00cc96",
           "#ab63fa",
           "#FFA15A",
           "#19d3f3",
           "#FF6692",
           "#B6E880",
           "#FF97FF",
           "#FECB52"
          ],
          "font": {
           "color": "#2a3f5f"
          },
          "geo": {
           "bgcolor": "white",
           "lakecolor": "white",
           "landcolor": "#E5ECF6",
           "showlakes": true,
           "showland": true,
           "subunitcolor": "white"
          },
          "hoverlabel": {
           "align": "left"
          },
          "hovermode": "closest",
          "mapbox": {
           "style": "light"
          },
          "paper_bgcolor": "white",
          "plot_bgcolor": "#E5ECF6",
          "polar": {
           "angularaxis": {
            "gridcolor": "white",
            "linecolor": "white",
            "ticks": ""
           },
           "bgcolor": "#E5ECF6",
           "radialaxis": {
            "gridcolor": "white",
            "linecolor": "white",
            "ticks": ""
           }
          },
          "scene": {
           "xaxis": {
            "backgroundcolor": "#E5ECF6",
            "gridcolor": "white",
            "gridwidth": 2,
            "linecolor": "white",
            "showbackground": true,
            "ticks": "",
            "zerolinecolor": "white"
           },
           "yaxis": {
            "backgroundcolor": "#E5ECF6",
            "gridcolor": "white",
            "gridwidth": 2,
            "linecolor": "white",
            "showbackground": true,
            "ticks": "",
            "zerolinecolor": "white"
           },
           "zaxis": {
            "backgroundcolor": "#E5ECF6",
            "gridcolor": "white",
            "gridwidth": 2,
            "linecolor": "white",
            "showbackground": true,
            "ticks": "",
            "zerolinecolor": "white"
           }
          },
          "shapedefaults": {
           "line": {
            "color": "#2a3f5f"
           }
          },
          "ternary": {
           "aaxis": {
            "gridcolor": "white",
            "linecolor": "white",
            "ticks": ""
           },
           "baxis": {
            "gridcolor": "white",
            "linecolor": "white",
            "ticks": ""
           },
           "bgcolor": "#E5ECF6",
           "caxis": {
            "gridcolor": "white",
            "linecolor": "white",
            "ticks": ""
           }
          },
          "title": {
           "x": 0.05
          },
          "xaxis": {
           "automargin": true,
           "gridcolor": "white",
           "linecolor": "white",
           "ticks": "",
           "title": {
            "standoff": 15
           },
           "zerolinecolor": "white",
           "zerolinewidth": 2
          },
          "yaxis": {
           "automargin": true,
           "gridcolor": "white",
           "linecolor": "white",
           "ticks": "",
           "title": {
            "standoff": 15
           },
           "zerolinecolor": "white",
           "zerolinewidth": 2
          }
         }
        },
        "title": {
         "text": "Balance Evolution - ACB"
        },
        "xaxis": {
         "anchor": "y",
         "autorange": true,
         "domain": [
          0,
          1
         ],
         "range": [
          -0.5,
          13.5
         ],
         "type": "multicategory"
        },
        "yaxis": {
         "anchor": "x",
         "autorange": true,
         "domain": [
          0,
          1
         ],
         "range": [
          0,
          10.526315789473685
         ],
         "type": "linear"
        }
       }
      },
      "image/png": "[encoded data removed]",
      "text/html": [
       "<div>                            <div id=\"71b61b8b-50c1-4a23-a69a-eb4107f045cb\" class=\"plotly-graph-div\" style=\"height:525px; width:100%;\"></div>            <script type=\"text/javascript\">                require([\"plotly\"], function(Plotly) {                    window.PLOTLYENV=window.PLOTLYENV || {};                                    if (document.getElementById(\"71b61b8b-50c1-4a23-a69a-eb4107f045cb\")) {                    Plotly.newPlot(                        \"71b61b8b-50c1-4a23-a69a-eb4107f045cb\",                        [{\"customdata\":[[129.0,\"EUR\"],[133.0,\"EUR\"],[150.0,\"EUR\"],[2.0,\"EUR\"],[129.0,\"EUR\"],[133.0,\"EUR\"],[150.0,\"EUR\"],[2.0,\"EUR\"],[20.85,\"EUR\"],[133.0,\"EUR\"],[150.0,\"EUR\"],[2.0,\"EUR\"],[20.85,\"EUR\"],[133.0,\"EUR\"],[150.0,\"EUR\"],[2.0,\"EUR\"],[20.85,\"EUR\"],[130.0,\"EUR\"],[133.44,\"EUR\"],[133.0,\"EUR\"],[150.0,\"EUR\"],[2.0,\"EUR\"],[20.85,\"EUR\"],[130.0,\"EUR\"],[133.44,\"EUR\"]],\"hovertemplate\":\"\\u003cb\\u003eDate:\\u003c\\u002fb\\u003e %{x[0]}\\u003cbr\\u003e\\u003cb\\u003eAsset:\\u003c\\u002fb\\u003e %{x[1]}\\u003cbr\\u003e\\u003cb\\u003eUnits:\\u003c\\u002fb\\u003e %{y}\\u003cbr\\u003e\\u003cb\\u003eUnit Price:\\u003c\\u002fb\\u003e %{customdata[0]:.2f} %{customdata[1]}\\u003cextra\\u003e\\u003c\\u002fextra\\u003e\",\"marker\":{\"color\":[\"#f7931a\",\"#f7931a\",\"#f7931a\",\"#2A7ABF\",\"#f7931a\",\"#f7931a\",\"#f7931a\",\"#2A7ABF\",\"#14044d\",\"#f7931a\",\"#f7931a\",\"#2A7ABF\",\"#14044d\",\"#f7931a\",\"#f7931a\",\"#2A7ABF\",\"#14044d\",\"#f7931a\",\"#f7931a\",\"#f7931a\",\"#f7931a\",\"#2A7ABF\",\"#14044d\",\"#f7931a\",\"#f7931a\"]},\"showlegend\":false,\"x\":[[\"2024-04-01T12:30:15\",\"2024-04-01T12:30:15\",\"2024-04-01T12:30:15\",\"2024-04-01T12:30:15\",\"2024-09-15T12:30:15\",\"2024-09-15T12:30:15\",\"2024-09-15T12:30:15\",\"2024-09-15T12:30:15\",\"2024-09-15T12:30:15\",\"2024-10-05T12:30:15\",\"2024-10-05T12:30:15\",\"2024-10-05T12:30:15\",\"2024-10-05T12:30:15\",\"2024-10-20T12:30:15\",\"2024-10-20T12:30:15\",\"2024-10-20T12:30:15\",\"2024-10-20T12:30:15\",\"2024-10-20T12:30:15\",\"2024-10-20T12:30:15\",\"2024-11-15T12:30:15\",\"2024-11-15T12:30:15\",\"2024-11-15T12:30:15\",\"2024-11-15T12:30:15\",\"2024-11-15T12:30:15\",\"2024-11-15T12:30:15\"],[\"BTC\",\"BTC\",\"BTC\",\"ADA\",\"BTC\",\"BTC\",\"BTC\",\"ADA\",\"ETH\",\"BTC\",\"BTC\",\"ADA\",\"ETH\",\"BTC\",\"BTC\",\"ADA\",\"ETH\",\"BTC\",\"BTC\",\"BTC\",\"BTC\",\"ADA\",\"ETH\",\"BTC\",\"BTC\"]],\"y\":[1.0,2.0,2.0,5.0,0.5,1.5,1.5,5.0,10.0,0.75,0.75,5.0,10.0,0.75,0.75,5.0,2.0,0.8,1.25,0.6675,0.6675,5.0,2.0,0.7175,1.1675],\"type\":\"bar\",\"xaxis\":\"x\",\"yaxis\":\"y\"}],                        {\"template\":{\"data\":{\"histogram2dcontour\":[{\"type\":\"histogram2dcontour\",\"colorbar\":{\"outlinewidth\":0,\"ticks\":\"\"},\"colorscale\":[[0.0,\"#0d0887\"],[0.1111111111111111,\"#46039f\"],[0.2222222222222222,\"#7201a8\"],[0.3333333333333333,\"#9c179e\"],[0.4444444444444444,\"#bd3786\"],[0.5555555555555556,\"#d8576b\"],[0.6666666666666666,\"#ed7953\"],[0.7777777777777778,\"#fb9f3a\"],[0.8888888888888888,\"#fdca26\"],[1.0,\"#f0f921\"]]}],\"choropleth\":[{\"type\":\"choropleth\",\"colorbar\":{\"outlinewidth\":0,\"ticks\":\"\"}}],\"histogram2d\":[{\"type\":\"histogram2d\",\"colorbar\":{\"outlinewidth\":0,\"ticks\":\"\"},\"colorscale\":[[0.0,\"#0d0887\"],[0.1111111111111111,\"#46039f\"],[0.2222222222222222,\"#7201a8\"],[0.3333333333333333,\"#9c179e\"],[0.4444444444444444,\"#bd3786\"],[0.5555555555555556,\"#d8576b\"],[0.6666666666666666,\"#ed7953\"],[0.7777777777777778,\"#fb9f3a\"],[0.8888888888888888,\"#fdca26\"],[1.0,\"#f0f921\"]]}],\"heatmap\":[{\"type\":\"heatmap\",\"colorbar\":{\"outlinewidth\":0,\"ticks\":\"\"},\"colorscale\":[[0.0,\"#0d0887\"],[0.1111111111111111,\"#46039f\"],[0.2222222222222222,\"#7201a8\"],[0.3333333333333333,\"#9c179e\"],[0.4444444444444444,\"#bd3786\"],[0.5555555555555556,\"#d8576b\"],[0.6666666666666666,\"#ed7953\"],[0.7777777777777778,\"#fb9f3a\"],[0.8888888888888888,\"#fdca26\"],[1.0,\"#f0f921\"]]}],\"heatmapgl\":[{\"type\":\"heatmapgl\",\"colorbar\":{\"outlinewidth\":0,\"ticks\":\"\"},\"colorscale\":[[0.0,\"#0d0887\"],[0.1111111111111111,\"#46039f\"],[0.2222222222222222,\"#7201a8\"],[0.3333333333333333,\"#9c179e\"],[0.4444444444444444,\"#bd3786\"],[0.5555555555555556,\"#d8576b\"],[0.6666666666666666,\"#ed7953\"],[0.7777777777777778,\"#fb9f3a\"],[0.8888888888888888,\"#fdca26\"],[1.0,\"#f0f921\"]]}],\"contourcarpet\":[{\"type\":\"contourcarpet\",\"colorbar\":{\"outlinewidth\":0,\"ticks\":\"\"}}],\"contour\":[{\"type\":\"contour\",\"colorbar\":{\"outlinewidth\":0,\"ticks\":\"\"},\"colorscale\":[[0.0,\"#0d0887\"],[0.1111111111111111,\"#46039f\"],[0.2222222222222222,\"#7201a8\"],[0.3333333333333333,\"#9c179e\"],[0.4444444444444444,\"#bd3786\"],[0.5555555555555556,\"#d8576b\"],[0.6666666666666666,\"#ed7953\"],[0.7777777777777778,\"#fb9f3a\"],[0.8888888888888888,\"#fdca26\"],[1.0,\"#f0f921\"]]}],\"surface\":[{\"type\":\"surface\",\"colorbar\":{\"outlinewidth\":0,\"ticks\":\"\"},\"colorscale\":[[0.0,\"#0d0887\"],[0.1111111111111111,\"#46039f\"],[0.2222222222222222,\"#7201a8\"],[0.3333333333333333,\"#9c179e\"],[0.4444444444444444,\"#bd3786\"],[0.5555555555555556,\"#d8576b\"],[0.6666666666666666,\"#ed7953\"],[0.7777777777777778,\"#fb9f3a\"],[0.8888888888888888,\"#fdca26\"],[1.0,\"#f0f921\"]]}],\"mesh3d\":[{\"type\":\"mesh3d\",\"colorbar\":{\"outlinewidth\":0,\"ticks\":\"\"}}],\"scatter\":[{\"fillpattern\":{\"fillmode\":\"overlay\",\"size\":10,\"solidity\":0.2},\"type\":\"scatter\"}],\"parcoords\":[{\"type\":\"parcoords\",\"line\":{\"colorbar\":{\"outlinewidth\":0,\"ticks\":\"\"}}}],\"scatterpolargl\":[{\"type\":\"scatterpolargl\",\"marker\":{\"colorbar\":{\"outlinewidth\":0,\"ticks\":\"\"}}}],\"bar\":[{\"error_x\":{\"color\":\"#2a3f5f\"},\"error_y\":{\"color\":\"#2a3f5f\"},\"marker\":{\"line\":{\"color\":\"#E5ECF6\",\"width\":0.5},\"pattern\":{\"fillmode\":\"overlay\",\"size\":10,\"solidity\":0.2}},\"type\":\"bar\"}],\"scattergeo\":[{\"type\":\"scattergeo\",\"marker\":{\"colorbar\":{\"outlinewidth\":0,\"ticks\":\"\"}}}],\"scatterpolar\":[{\"type\":\"scatterpolar\",\"marker\":{\"colorbar\":{\"outlinewidth\":0,\"ticks\":\"\"}}}],\"histogram\":[{\"marker\":{\"pattern\":{\"fillmode\":\"overlay\",\"size\":10,\"solidity\":0.2}},\"type\":\"histogram\"}],\"scattergl\":[{\"type\":\"scattergl\",\"marker\":{\"colorbar\":{\"outlinewidth\":0,\"ticks\":\"\"}}}],\"scatter3d\":[{\"type\":\"scatter3d\",\"line\":{\"colorbar\":{\"outlinewidth\":0,\"ticks\":\"\"}},\"marker\":{\"colorbar\":{\"outlinewidth\":0,\"ticks\":\"\"}}}],\"scattermapbox\":[{\"type\":\"scattermapbox\",\"marker\":{\"colorbar\":{\"outlinewidth\":0,\"ticks\":\"\"}}}],\"scatterternary\":[{\"type\":\"scatterternary\",\"marker\":{\"colorbar\":{\"outlinewidth\":0,\"ticks\":\"\"}}}],\"scattercarpet\":[{\"type\":\"scattercarpet\",\"marker\":{\"colorbar\":{\"outlinewidth\":0,\"ticks\":\"\"}}}],\"carpet\":[{\"aaxis\":{\"endlinecolor\":\"#2a3f5f\",\"gridcolor\":\"white\",\"linecolor\":\"white\",\"minorgridcolor\":\"white\",\"startlinecolor\":\"#2a3f5f\"},\"baxis\":{\"endlinecolor\":\"#2a3f5f\",\"gridcolor\":\"white\",\"linecolor\":\"white\",\"minorgridcolor\":\"white\",\"startlinecolor\":\"#2a3f5f\"},\"type\":\"carpet\"}],\"table\":[{\"cells\":{\"fill\":{\"color\":\"#EBF0F8\"},\"line\":{\"color\":\"white\"}},\"header\":{\"fill\":{\"color\":\"#C8D4E3\"},\"line\":{\"color\":\"white\"}},\"type\":\"table\"}],\"barpolar\":[{\"marker\":{\"line\":{\"color\":\"#E5ECF6\",\"width\":0.5},\"pattern\":{\"fillmode\":\"overlay\",\"size\":10,\"solidity\":0.2}},\"type\":\"barpolar\"}],\"pie\":[{\"automargin\":true,\"type\":\"pie\"}]},\"layout\":{\"autotypenumbers\":\"strict\",\"colorway\":[\"#636efa\",\"#EF553B\",\"#00cc96\",\"#ab63fa\",\"#FFA15A\",\"#19d3f3\",\"#FF6692\",\"#B6E880\",\"#FF97FF\",\"#FECB52\"],\"font\":{\"color\":\"#2a3f5f\"},\"hovermode\":\"closest\",\"hoverlabel\":{\"align\":\"left\"},\"paper_bgcolor\":\"white\",\"plot_bgcolor\":\"#E5ECF6\",\"polar\":{\"bgcolor\":\"#E5ECF6\",\"angularaxis\":{\"gridcolor\":\"white\",\"linecolor\":\"white\",\"ticks\":\"\"},\"radialaxis\":{\"gridcolor\":\"white\",\"linecolor\":\"white\",\"ticks\":\"\"}},\"ternary\":{\"bgcolor\":\"#E5ECF6\",\"aaxis\":{\"gridcolor\":\"white\",\"linecolor\":\"white\",\"ticks\":\"\"},\"baxis\":{\"gridcolor\":\"white\",\"linecolor\":\"white\",\"ticks\":\"\"},\"caxis\":{\"gridcolor\":\"white\",\"linecolor\":\"white\",\"ticks\":\"\"}},\"coloraxis\":{\"colorbar\":{\"outlinewidth\":0,\"ticks\":\"\"}},\"colorscale\":{\"sequential\":[[0.0,\"#0d0887\"],[0.1111111111111111,\"#46039f\"],[0.2222222222222222,\"#7201a8\"],[0.3333333333333333,\"#9c179e\"],[0.4444444444444444,\"#bd3786\"],[0.5555555555555556,\"#d8576b\"],[0.6666666666666666,\"#ed7953\"],[0.7777777777777778,\"#fb9f3a\"],[0.8888888888888888,\"#fdca26\"],[1.0,\"#f0f921\"]],\"sequentialminus\":[[0.0,\"#0d0887\"],[0.1111111111111111,\"#46039f\"],[0.2222222222222222,\"#7201a8\"],[0.3333333333333333,\"#9c179e\"],[0.4444444444444444,\"#bd3786\"],[0.5555555555555556,\"#d8576b\"],[0.6666666666666666,\"#ed7953\"],[0.7777777777777778,\"#fb9f3a\"],[0.8888888888888888,\"#fdca26\"],[1.0,\"#f0f921\"]],\"diverging\":[[0,\"#8e0152\"],[0.1,\"#c51b7d\"],[0.2,\"#de77ae\"],[0.3,\"#f1b6da\"],[0.4,\"#fde0ef\"],[0.5,\"#f7f7f7\"],[0.6,\"#e6f5d0\"],[0.7,\"#b8e186\"],[0.8,\"#7fbc41\"],[0.9,\"#4d9221\"],[1,\"#276419\"]]},\"xaxis\":{\"gridcolor\":\"white\",\"linecolor\":\"white\",\"ticks\":\"\",\"title\":{\"standoff\":15},\"zerolinecolor\":\"white\",\"automargin\":true,\"zerolinewidth\":2},\"yaxis\":{\"gridcolor\":\"white\",\"linecolor\":\"white\",\"ticks\":\"\",\"title\":{\"standoff\":15},\"zerolinecolor\":\"white\",\"automargin\":true,\"zerolinewidth\":2},\"scene\":{\"xaxis\":{\"backgroundcolor\":\"#E5ECF6\",\"gridcolor\":\"white\",\"linecolor\":\"white\",\"showbackground\":true,\"ticks\":\"\",\"zerolinecolor\":\"white\",\"gridwidth\":2},\"yaxis\":{\"backgroundcolor\":\"#E5ECF6\",\"gridcolor\":\"white\",\"linecolor\":\"white\",\"showbackground\":true,\"ticks\":\"\",\"zerolinecolor\":\"white\",\"gridwidth\":2},\"zaxis\":{\"backgroundcolor\":\"#E5ECF6\",\"gridcolor\":\"white\",\"linecolor\":\"white\",\"showbackground\":true,\"ticks\":\"\",\"zerolinecolor\":\"white\",\"gridwidth\":2}},\"shapedefaults\":{\"line\":{\"color\":\"#2a3f5f\"}},\"annotationdefaults\":{\"arrowcolor\":\"#2a3f5f\",\"arrowhead\":0,\"arrowwidth\":1},\"geo\":{\"bgcolor\":\"white\",\"landcolor\":\"#E5ECF6\",\"subunitcolor\":\"white\",\"showland\":true,\"showlakes\":true,\"lakecolor\":\"white\"},\"title\":{\"x\":0.05},\"mapbox\":{\"style\":\"light\"}}},\"xaxis\":{\"anchor\":\"y\",\"domain\":[0.0,1.0]},\"yaxis\":{\"anchor\":\"x\",\"domain\":[0.0,1.0]},\"barmode\":\"stack\",\"title\":{\"text\":\"Balance Evolution - ACB\"}},                        {\"responsive\": true}                    ).then(function(){\n",
       "                            \n",
       "var gd = document.getElementById('71b61b8b-50c1-4a23-a69a-eb4107f045cb');\n",
       "var x = new MutationObserver(function (mutations, observer) {{\n",
       "        var display = window.getComputedStyle(gd).display;\n",
       "        if (!display || display === 'none') {{\n",
       "            console.log([gd, 'removed!']);\n",
       "            Plotly.purge(gd);\n",
       "            observer.disconnect();\n",
       "        }}\n",
       "}});\n",
       "\n",
       "// Listen for the removal of the full notebook cells\n",
       "var notebookContainer = gd.closest('#notebook-container');\n",
       "if (notebookContainer) {{\n",
       "    x.observe(notebookContainer, {childList: true});\n",
       "}}\n",
       "\n",
       "// Listen for the clearing of the current output cell\n",
       "var outputEl = gd.closest('.output');\n",
       "if (outputEl) {{\n",
       "    x.observe(outputEl, {childList: true});\n",
       "}}\n",
       "\n",
       "                        })                };                });            </script>        </div>"
      ]
     },
     "metadata": {},
     "output_type": "display_data"
    }
   ],
   "source": [
    "df_balance_evolution['Colors'] = df_balance_evolution['Asset'].map({\"BTC\":'#f7931a',\n",
    "                                                                    'ETH':'#14044d',\n",
    "                                                                    'ADA':'#2A7ABF',\n",
    "                                                                    'CRO':'#092D74'})\n",
    "\n",
    "# Subplot setup\n",
    "fig = make_subplots(rows=1, cols=1)\n",
    "\n",
    "# Add trace with custom hovertemplate\n",
    "fig.add_trace(go.Bar(\n",
    "    x=[df_balance_evolution['Date'], df_balance_evolution['Asset']],\n",
    "    y=df_balance_evolution['Units'],\n",
    "    marker_color=df_balance_evolution['Colors'],\n",
    "    showlegend=False,\n",
    "    hovertemplate=(\n",
    "        \"<b>Date:</b> %{x[0]}<br>\" +\n",
    "        \"<b>Asset:</b> %{x[1]}<br>\" +\n",
    "        \"<b>Units:</b> %{y}<br>\" +\n",
    "        \"<b>Unit Price:</b> %{customdata[0]:.2f} %{customdata[1]}<extra></extra>\"\n",
    "    ),\n",
    "    customdata=np.column_stack((df_balance_evolution['Unit Price'], df_balance_evolution['Currency'])),\n",
    "), row=1, col=1)\n",
    "\n",
    "# Update layout\n",
    "fig.update_layout(barmode='stack', title=f\"Balance Evolution - {METHOD}\")\n",
    "fig.show()"
   ]
  }
 ],
 "metadata": {
  "colab": {
   "authorship_tag": "ABX9TyPAxx8Eg0tSE7o2xUcE9KFm",
   "provenance": []
  },
  "kernelspec": {
   "display_name": "Python 3 (ipykernel)",
   "language": "python",
   "name": "python3"
  },
  "language_info": {
   "codemirror_mode": {
    "name": "ipython",
    "version": 3
   },
   "file_extension": ".py",
   "mimetype": "text/x-python",
   "name": "python",
   "nbconvert_exporter": "python",
   "pygments_lexer": "ipython3",
   "version": "3.11.9"
  }
 },
 "nbformat": 4,
 "nbformat_minor": 4
}
